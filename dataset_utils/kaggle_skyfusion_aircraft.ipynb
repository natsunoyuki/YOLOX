{
 "cells": [
  {
   "cell_type": "code",
   "execution_count": null,
   "metadata": {},
   "outputs": [],
   "source": [
    "import json\n",
    "from pathlib import Path\n",
    "import pandas as pd\n",
    "\n",
    "data_dir = Path(\"/Users/user/Documents/pythonmain/YOLOX/datasets/SkyFusion\")\n",
    "\n",
    "annotation_sub_dir = \"annotations\""
   ]
  },
  {
   "cell_type": "code",
   "execution_count": null,
   "metadata": {},
   "outputs": [],
   "source": [
    "def filter_annotation_class(json_anns, wanted_class = 0):\n",
    "    annotations = pd.DataFrame(json_anns[\"annotations\"])\n",
    "    images = pd.DataFrame(json_anns[\"images\"])\n",
    "    wanted_annotations = annotations[annotations[\"category_id\"] == wanted_class]\n",
    "    wanted_images = images.merge(annotations[\"image_id\"].drop_duplicates(), \n",
    "                                 left_on=\"id\", right_on=\"image_id\",\n",
    "                                 how = \"inner\").drop(\"image_id\", axis = 1)\n",
    "    json_anns[\"images\"] = wanted_images.to_dict(orient=\"records\")\n",
    "    json_anns[\"annotations\"] = wanted_annotations.to_dict(orient=\"records\")\n",
    "    json_anns[\"categories\"] = [c for c in json_anns[\"categories\"] if c[\"id\"] == wanted_class]\n",
    "    return json_anns, wanted_images[\"file_name\"].values.tolist()\n",
    "\n",
    "def filter_dataset(json_ann_file: Path, image_dir: Path, wanted_class: int = 0):\n",
    "    with open(json_ann_file, \"r\") as f:\n",
    "        anns = json.load(f)\n",
    "    anns, want_ims = filter_annotation_class(anns, wanted_class)\n",
    "\n",
    "    for f in image_dir.iterdir():\n",
    "        if f.name not in want_ims:\n",
    "            f.unlink()\n",
    "\n",
    "    with open(json_ann_file, \"w\") as f:\n",
    "        json.dump(anns, f, indent=4)"
   ]
  },
  {
   "cell_type": "code",
   "execution_count": null,
   "metadata": {},
   "outputs": [],
   "source": [
    "filter_dataset(\n",
    "    data_dir / \"annotations/instances_train2017.json\",\n",
    "    data_dir / \"train2017\",\n",
    "    0\n",
    ")\n",
    "\n",
    "filter_dataset(\n",
    "    data_dir / \"annotations/instances_val2017.json\",\n",
    "    data_dir / \"val2017\",\n",
    "    0\n",
    ")\n",
    "\n",
    "filter_dataset(\n",
    "    data_dir / \"annotations/instances_test2017.json\",\n",
    "    data_dir / \"test2017\",\n",
    "    0\n",
    ")"
   ]
  },
  {
   "cell_type": "code",
   "execution_count": null,
   "metadata": {},
   "outputs": [],
   "source": [
    "with open(data_dir / \"annotations/instances_train2017.json\", \"r\") as f:\n",
    "    anns = json.load(f)"
   ]
  },
  {
   "cell_type": "code",
   "execution_count": null,
   "metadata": {},
   "outputs": [],
   "source": [
    "pd.DataFrame(anns[\"images\"])"
   ]
  },
  {
   "cell_type": "code",
   "execution_count": null,
   "metadata": {},
   "outputs": [],
   "source": []
  }
 ],
 "metadata": {
  "kernelspec": {
   "display_name": "venv",
   "language": "python",
   "name": "python3"
  },
  "language_info": {
   "codemirror_mode": {
    "name": "ipython",
    "version": 3
   },
   "file_extension": ".py",
   "mimetype": "text/x-python",
   "name": "python",
   "nbconvert_exporter": "python",
   "pygments_lexer": "ipython3",
   "version": "3.11.11"
  }
 },
 "nbformat": 4,
 "nbformat_minor": 2
}
